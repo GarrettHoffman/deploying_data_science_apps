{
 "cells": [
  {
   "cell_type": "code",
   "execution_count": 1,
   "metadata": {},
   "outputs": [
    {
     "name": "stderr",
     "output_type": "stream",
     "text": [
      "/home/ec2-user/anaconda3/envs/python3/lib/python3.6/site-packages/psycopg2/__init__.py:144: UserWarning: The psycopg2 wheel package will be renamed from release 2.8; in order to keep installing from binary please use \"pip install psycopg2-binary\" instead. For details see: <http://initd.org/psycopg/docs/install.html#binary-install-from-pypi>.\n",
      "  \"\"\")\n"
     ]
    }
   ],
   "source": [
    "import pandas as pd\n",
    "import numpy as np\n",
    "import psycopg2\n",
    "import os"
   ]
  },
  {
   "cell_type": "code",
   "execution_count": 2,
   "metadata": {},
   "outputs": [],
   "source": [
    "# Grab config\n",
    "HOST = os.environ.get('DB_HOST') or \"st-deploy-ds-apps-db.cypzti2esilk.us-east-1.rds.amazonaws.com\"\n",
    "DB_NAME = os.environ.get('DB_NAME') or \"stdemo\"\n",
    "USER = os.environ.get('DB_USER') or \"odsc\"\n",
    "PASSWORD = os.environ.get('DB_PASSWORD') or \"password\""
   ]
  },
  {
   "cell_type": "code",
   "execution_count": 3,
   "metadata": {},
   "outputs": [],
   "source": [
    "# Need to create mock data for user and room recommendation tasks\n",
    "# Need to create User, Room, Message Objects and Follow, Subscribes, \n",
    "# Posts In, Mention, and Like Relationshipts\n",
    "\n",
    "# simply create users, rooms and messages\n",
    "users = np.arange(1000) + 1\n",
    "rooms = np.arange(200) + 1\n",
    "messages = np.arange(20000) + 1"
   ]
  },
  {
   "cell_type": "code",
   "execution_count": 4,
   "metadata": {},
   "outputs": [],
   "source": [
    "# for each user first randomly select number of people they follow uniformly between 10 and 200, \n",
    "# then randomly sample who they follow\n",
    "follow_dict = {}\n",
    "for user in users:\n",
    "    n = int(np.random.uniform(10, 200))\n",
    "    follows = np.random.choice(a=users, size=n, replace=False)\n",
    "    follow_dict[user] = []\n",
    "    for follow in follows:\n",
    "        if follow == user:\n",
    "            continue\n",
    "        follow_dict[user].append(follow)"
   ]
  },
  {
   "cell_type": "code",
   "execution_count": 5,
   "metadata": {},
   "outputs": [],
   "source": [
    "# create a reverse dict of followers relationship from follows dict, this will come in handy later\n",
    "# when we need to sample from a users followers\n",
    "follower_dict = {}\n",
    "for user in follow_dict:\n",
    "    for follows in follow_dict[user]:\n",
    "        if user not in follower_dict:\n",
    "            follower_dict[user] = [follows]\n",
    "        else:\n",
    "            follower_dict[user].append(follows)   "
   ]
  },
  {
   "cell_type": "code",
   "execution_count": 6,
   "metadata": {},
   "outputs": [],
   "source": [
    "# for each user first randomly select number of rooms they subscribe to uniformly between 5 and 15, \n",
    "# then randomly sample which rooms they subscribe to\n",
    "subscribes_dict = {}\n",
    "for user in users:\n",
    "    n = int(np.random.uniform(5, 15))\n",
    "    subscribes = np.random.choice(a=rooms, size=n, replace=False)\n",
    "    subscribes_dict[user] = subscribes.tolist()"
   ]
  },
  {
   "cell_type": "code",
   "execution_count": 7,
   "metadata": {},
   "outputs": [],
   "source": [
    "# create a reverse dict of subscribers relationship from subscribes dict, this will come in handy later\n",
    "# when we need to sample from a rooms subscribers\n",
    "subscribers_dict = {}\n",
    "for user in subscribes_dict:\n",
    "    for room in subscribes_dict[user]:\n",
    "        if room not in subscribers_dict:\n",
    "            subscribers_dict[room] = [user]\n",
    "        else:\n",
    "            subscribers_dict[room].append(user)  "
   ]
  },
  {
   "cell_type": "code",
   "execution_count": 8,
   "metadata": {},
   "outputs": [],
   "source": [
    "# for each message sample a random room\n",
    "posts_in_dict = {}\n",
    "for message in messages:\n",
    "    posts_in_dict[message] = np.random.choice(rooms)"
   ]
  },
  {
   "cell_type": "code",
   "execution_count": 9,
   "metadata": {},
   "outputs": [],
   "source": [
    "# for each message choose a random author from the subscribers of the room it is posted in\n",
    "author_dict = {}\n",
    "for message in messages:\n",
    "    room = posts_in_dict[message]\n",
    "    subscribers = subscribers_dict[room]\n",
    "    author_dict[message] = np.random.choice(subscribers)"
   ]
  },
  {
   "cell_type": "code",
   "execution_count": 10,
   "metadata": {},
   "outputs": [],
   "source": [
    "# for each message sample how many users were tagged in it from a possion distribution with lambda = 1.5\n",
    "# limited by the total number of users that they follow. Then sample who these users are from the people\n",
    "# that the user who posted the message follows\n",
    "post_mention_dict = {}\n",
    "for message in messages:\n",
    "    author = author_dict[message]\n",
    "    follows = follow_dict[author]\n",
    "    n = min(len(follows), np.random.poisson(lam=1.5))\n",
    "    mentions = np.random.choice(a=follows, size=n, replace=False)\n",
    "    post_mention_dict[message] = mentions.tolist()"
   ]
  },
  {
   "cell_type": "code",
   "execution_count": 11,
   "metadata": {},
   "outputs": [],
   "source": [
    "# for each message sample how many users liked it from a uniform distribution from 0 to 25 limited \n",
    "# by the total number of users that follow the auther. Then sample who these users are from the people\n",
    "# that follow the user who posted the message.\n",
    "post_like_dict = {}\n",
    "for message in messages:\n",
    "    author = author_dict[message]\n",
    "    followers = follower_dict[author]\n",
    "    n = int(min(len(followers), np.random.uniform(0, 25)))\n",
    "    likes = np.random.choice(a=followers, size=n, replace=False)\n",
    "    post_like_dict[message] = likes.tolist()"
   ]
  },
  {
   "cell_type": "code",
   "execution_count": 12,
   "metadata": {},
   "outputs": [],
   "source": [
    "# now that we have all of the objects and relationships defined we need to construct our tables.\n",
    "# first we will define these as lists and then we will simply iterate through our lists to instert the rows\n",
    "# into postgres\n",
    "\n",
    "follows = []\n",
    "i = 1\n",
    "for user in follow_dict:\n",
    "    for follow in follow_dict[user]:\n",
    "        follows.append([i, user, follow])\n",
    "        i += 1\n",
    "\n",
    "likes = []\n",
    "i = 1\n",
    "for message in post_like_dict:\n",
    "    for user in post_like_dict[message]:\n",
    "        likes.append([i, user, message])\n",
    "        i += 1\n",
    "\n",
    "subscriptions = []\n",
    "i = 1\n",
    "for room in subscribers_dict:\n",
    "    for user in subscribers_dict[room]:\n",
    "        subscriptions.append([i, user, room])\n",
    "        i += 1\n",
    "\n",
    "message_data = []\n",
    "for message in messages:\n",
    "    author = author_dict[message]\n",
    "    room = posts_in_dict[message]\n",
    "    mentions = post_mention_dict[message]\n",
    "    mentions = \",\".join(str(m) for m in mentions)\n",
    "    message_data.append([message, author, room, mentions])"
   ]
  },
  {
   "cell_type": "code",
   "execution_count": 13,
   "metadata": {},
   "outputs": [],
   "source": [
    "# now we will create the postgres tables and insert rows from the lists we created\n",
    "# open our connection\n",
    "try: \n",
    "    conn = psycopg2.connect(f\"host={HOST} dbname={DB_NAME} user={USER} password={PASSWORD}\")\n",
    "except psycopg2.Error as e: \n",
    "    print(\"Error: Could not make connection to the Postgres database\")\n",
    "    print(e)"
   ]
  },
  {
   "cell_type": "code",
   "execution_count": 14,
   "metadata": {},
   "outputs": [],
   "source": [
    "# get our cursor\n",
    "try: \n",
    "    cur = conn.cursor()\n",
    "except psycopg2.Error as e: \n",
    "    print(\"Error: Could not get curser to the Database\")\n",
    "    print(e)"
   ]
  },
  {
   "cell_type": "code",
   "execution_count": 15,
   "metadata": {},
   "outputs": [],
   "source": [
    "# set connection autocommit to be true\n",
    "conn.set_session(autocommit=True)"
   ]
  },
  {
   "cell_type": "code",
   "execution_count": 16,
   "metadata": {},
   "outputs": [],
   "source": [
    "# define and fill users table\n",
    "try: \n",
    "    cur.execute(\"CREATE TABLE IF NOT EXISTS users (id int) ;\")\n",
    "except psycopg2.Error as e: \n",
    "    print(\"Error: Issue creating users table\")\n",
    "    print (e)\n",
    "\n",
    "for user_id in users:\n",
    "    try: \n",
    "        cur.execute(\"INSERT INTO users (id) VALUES (%s)\", [int(user_id)])\n",
    "    except psycopg2.Error as e: \n",
    "        print(\"Error: Inserting Rows\")\n",
    "        print (e)"
   ]
  },
  {
   "cell_type": "code",
   "execution_count": 17,
   "metadata": {},
   "outputs": [],
   "source": [
    "# define and fill rooms table\n",
    "try: \n",
    "    cur.execute(\"CREATE TABLE IF NOT EXISTS rooms (id int) ;\")\n",
    "except psycopg2.Error as e: \n",
    "    print(\"Error: Issue creating rooms table\")\n",
    "    print (e)\n",
    "\n",
    "for room_id in rooms:\n",
    "    try: \n",
    "        cur.execute(\"INSERT INTO rooms (id) VALUES (%s)\", [int(room_id)])\n",
    "    except psycopg2.Error as e: \n",
    "        print(\"Error: Inserting Rows\")\n",
    "        print (e)"
   ]
  },
  {
   "cell_type": "code",
   "execution_count": 18,
   "metadata": {},
   "outputs": [],
   "source": [
    "# define and fill follows table\n",
    "try: \n",
    "    cur.execute(\"CREATE TABLE IF NOT EXISTS follows (id int, user_id int, following_user_id int) ;\")\n",
    "except psycopg2.Error as e: \n",
    "    print(\"Error: Issue creating follows table\")\n",
    "    print (e)\n",
    "\n",
    "for i, user_id, following_user_id in follows:\n",
    "    try: \n",
    "        cur.execute(\"INSERT INTO follows (id, user_id, following_user_id) VALUES (%s, %s, %s)\", \\\n",
    "                    (i, int(user_id), int(following_user_id)))\n",
    "    except psycopg2.Error as e: \n",
    "        print(\"Error: Inserting Rows\")\n",
    "        print (e)"
   ]
  },
  {
   "cell_type": "code",
   "execution_count": 19,
   "metadata": {},
   "outputs": [],
   "source": [
    "# define and fill likes table\n",
    "try: \n",
    "    cur.execute(\"CREATE TABLE IF NOT EXISTS likes (id int, user_id int, message_id int) ;\")\n",
    "except psycopg2.Error as e: \n",
    "    print(\"Error: Issue creating likes table\")\n",
    "    print (e)\n",
    "\n",
    "for i, user_id, message_id in likes:\n",
    "    try: \n",
    "        cur.execute(\"INSERT INTO likes (id, user_id, message_id) VALUES (%s, %s, %s)\", \\\n",
    "                    (i, int(user_id), int(message_id)))\n",
    "    except psycopg2.Error as e: \n",
    "        print(\"Error: Inserting Rows\")\n",
    "        print (e)"
   ]
  },
  {
   "cell_type": "code",
   "execution_count": 20,
   "metadata": {},
   "outputs": [],
   "source": [
    "# define and fill subscriptions table\n",
    "try: \n",
    "    cur.execute(\"CREATE TABLE IF NOT EXISTS subscriptions (id int, user_id int, room_id int) ;\")\n",
    "except psycopg2.Error as e: \n",
    "    print(\"Error: Issue creating subscriptions table\")\n",
    "    print (e)\n",
    "\n",
    "for i, user_id, room_id in subscriptions:\n",
    "    try: \n",
    "        cur.execute(\"INSERT INTO subscriptions (id, user_id, room_id) VALUES (%s, %s, %s)\", \\\n",
    "                    (i, int(user_id), int(room_id)))\n",
    "    except psycopg2.Error as e: \n",
    "        print(\"Error: Inserting Rows\")\n",
    "        print (e)"
   ]
  },
  {
   "cell_type": "code",
   "execution_count": 21,
   "metadata": {},
   "outputs": [],
   "source": [
    "# define and fill messages table\n",
    "try: \n",
    "    cur.execute(\"CREATE TABLE IF NOT EXISTS messages (id int, user_id int, room_id int, mention_ids varchar) ;\")\n",
    "except psycopg2.Error as e: \n",
    "    print(\"Error: Issue creating messages table\")\n",
    "    print (e)\n",
    "\n",
    "for message_id, user_id, room_id, mention_ids in message_data:\n",
    "    try: \n",
    "        cur.execute(\"INSERT INTO messages (id, user_id, room_id, mention_ids) VALUES (%s, %s, %s, %s)\", \\\n",
    "                    (int(message_id), int(user_id), int(room_id), mention_ids))\n",
    "    except psycopg2.Error as e: \n",
    "        print(\"Error: Inserting Rows\")\n",
    "        print (e)"
   ]
  },
  {
   "cell_type": "code",
   "execution_count": 22,
   "metadata": {},
   "outputs": [],
   "source": [
    "# close connection\n",
    "conn.close()"
   ]
  },
  {
   "cell_type": "code",
   "execution_count": null,
   "metadata": {},
   "outputs": [],
   "source": []
  }
 ],
 "metadata": {
  "kernelspec": {
   "display_name": "conda_python3",
   "language": "python",
   "name": "conda_python3"
  },
  "language_info": {
   "codemirror_mode": {
    "name": "ipython",
    "version": 3
   },
   "file_extension": ".py",
   "mimetype": "text/x-python",
   "name": "python",
   "nbconvert_exporter": "python",
   "pygments_lexer": "ipython3",
   "version": "3.6.5"
  }
 },
 "nbformat": 4,
 "nbformat_minor": 2
}
