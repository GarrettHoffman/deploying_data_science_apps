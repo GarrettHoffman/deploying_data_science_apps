{
 "cells": [
  {
   "cell_type": "code",
   "execution_count": null,
   "metadata": {},
   "outputs": [],
   "source": [
    "import time\n",
    "import datetime as dt\n",
    "import numpy as np\n",
    "import psycopg2\n",
    "import os"
   ]
  },
  {
   "cell_type": "code",
   "execution_count": null,
   "metadata": {},
   "outputs": [],
   "source": [
    "# Grab config\n",
    "HOST = os.environ.get('DB_HOST') or \"st-deploy-ds-apps-db.cypzti2esilk.us-east-1.rds.amazonaws.com\"\n",
    "DB_NAME = os.environ.get('DB_NAME') or \"stdemo\"\n",
    "USER = os.environ.get('DB_USER') or \"odsc\"\n",
    "PASSWORD = os.environ.get('DB_PASSWORD') or \"password\""
   ]
  },
  {
   "cell_type": "code",
   "execution_count": null,
   "metadata": {},
   "outputs": [],
   "source": [
    "# define our universe of symbols\n",
    "SYMBOLS = [\"FB\", \"AMZN\", \"AAPL\", \"NFLX\", \"GOOG\"]"
   ]
  },
  {
   "cell_type": "code",
   "execution_count": null,
   "metadata": {},
   "outputs": [],
   "source": [
    "# define helper function to generate our data\n",
    "def generate_symbol():\n",
    "    symbol = np.random.choice(SYMBOLS)\n",
    "    return symbol\n",
    "\n",
    "def generate_sentiment_score():\n",
    "    sentiment = 2 * np.random.random() - 1\n",
    "    return round(sentiment, 5)"
   ]
  },
  {
   "cell_type": "code",
   "execution_count": null,
   "metadata": {},
   "outputs": [],
   "source": [
    "# connect to db\n",
    "# now we will create the postgres tables and insert rows from the lists we created\n",
    "# open our connection\n",
    "try: \n",
    "    conn = psycopg2.connect(f\"host={HOST} dbname={DB_NAME} user={USER} password={PASSWORD}\")\n",
    "except psycopg2.Error as e: \n",
    "    print(\"Error: Could not make connection to the Postgres database\")\n",
    "    print(e)"
   ]
  },
  {
   "cell_type": "code",
   "execution_count": null,
   "metadata": {},
   "outputs": [],
   "source": [
    "# get our cursor\n",
    "try: \n",
    "    cur = conn.cursor()\n",
    "except psycopg2.Error as e: \n",
    "    print(\"Error: Could not get curser to the Database\")\n",
    "    print(e)\n",
    "\n",
    "# set connection autocommit to be true\n",
    "conn.set_session(autocommit=True)"
   ]
  },
  {
   "cell_type": "code",
   "execution_count": null,
   "metadata": {},
   "outputs": [],
   "source": [
    "# create our raw sentiment table\n",
    "try: \n",
    "    cur.execute(\"CREATE TABLE IF NOT EXISTS raw_sent_mini_batch (created_at timestamp, message_id int, symbol varchar, sent_score numeric) ;\")\n",
    "except psycopg2.Error as e: \n",
    "    print(\"Error: Issue creating users table\")\n",
    "    print (e)"
   ]
  },
  {
   "cell_type": "code",
   "execution_count": null,
   "metadata": {},
   "outputs": [],
   "source": [
    "# generate data for 10 minutes and write it to postgress\n",
    "t0 = dt.datetime.utcnow()\n",
    "t1 = dt.datetime.utcnow()\n",
    "seconds_elapsed =  (t1 - t0).total_seconds()\n",
    "message_id = 0\n",
    "while seconds_elapsed < 600:\n",
    "    created_at = dt.datetime.utcnow()\n",
    "    message_id += 1\n",
    "    symbol = generate_symbol()\n",
    "    sent_score = generate_sentiment_score()\n",
    "\n",
    "    print(\"Created At:\", created_at, \"Message Id:\", message_id, \"Symbol:\", symbol, \"Sentiment Score:\", sent_score)\n",
    "    try: \n",
    "        cur.execute(\"INSERT INTO raw_sent_mini_batch (created_at, message_id, symbol, sent_score) VALUES (%s, %s, %s, %s)\", \\\n",
    "                    (created_at, message_id, symbol, sent_score))\n",
    "    except psycopg2.Error as e: \n",
    "        print(\"Error: Inserting Row\")\n",
    "        print (e)\n",
    "    \n",
    "    # sleep for a millisecond\n",
    "    time.sleep(0.1)\n",
    "\n",
    "    # update seconds elapsed\n",
    "    t1 = dt.datetime.utcnow()\n",
    "    seconds_elapsed =  (t1 - t0).total_seconds()"
   ]
  },
  {
   "cell_type": "code",
   "execution_count": null,
   "metadata": {},
   "outputs": [],
   "source": []
  }
 ],
 "metadata": {
  "kernelspec": {
   "display_name": "conda_python3",
   "language": "python",
   "name": "conda_python3"
  },
  "language_info": {
   "codemirror_mode": {
    "name": "ipython",
    "version": 3
   },
   "file_extension": ".py",
   "mimetype": "text/x-python",
   "name": "python",
   "nbconvert_exporter": "python",
   "pygments_lexer": "ipython3",
   "version": "3.6.5"
  }
 },
 "nbformat": 4,
 "nbformat_minor": 2
}
