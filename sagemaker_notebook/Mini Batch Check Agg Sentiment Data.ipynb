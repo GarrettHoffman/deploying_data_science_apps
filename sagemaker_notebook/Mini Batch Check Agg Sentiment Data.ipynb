{
 "cells": [
  {
   "cell_type": "code",
   "execution_count": null,
   "metadata": {},
   "outputs": [],
   "source": [
    "import pandas as pd\n",
    "import numpy as np\n",
    "import psycopg2\n",
    "import os"
   ]
  },
  {
   "cell_type": "code",
   "execution_count": null,
   "metadata": {},
   "outputs": [],
   "source": [
    "# Grab config\n",
    "HOST = os.environ.get('DB_HOST') or \"st-deploy-ds-apps-db.cypzti2esilk.us-east-1.rds.amazonaws.com\"\n",
    "DB_NAME = os.environ.get('DB_NAME') or \"stdemo\"\n",
    "USER = os.environ.get('DB_USER') or \"odsc\"\n",
    "PASSWORD = os.environ.get('DB_PASSWORD') or \"password\""
   ]
  },
  {
   "cell_type": "code",
   "execution_count": null,
   "metadata": {},
   "outputs": [],
   "source": [
    "# open our connection\n",
    "try: \n",
    "    conn = psycopg2.connect(f\"host={HOST} dbname={DB_NAME} user={USER} password={PASSWORD}\")\n",
    "except psycopg2.Error as e: \n",
    "    print(\"Error: Could not make connection to the Postgres database\")\n",
    "    print(e)"
   ]
  },
  {
   "cell_type": "code",
   "execution_count": null,
   "metadata": {},
   "outputs": [],
   "source": [
    "pd.read_sql_query(\"SELECT * FROM agg_sent_mini_batch\", conn).tail(10)"
   ]
  },
  {
   "cell_type": "code",
   "execution_count": null,
   "metadata": {},
   "outputs": [],
   "source": []
  }
 ],
 "metadata": {
  "kernelspec": {
   "display_name": "conda_python3",
   "language": "python",
   "name": "conda_python3"
  },
  "language_info": {
   "codemirror_mode": {
    "name": "ipython",
    "version": 3
   },
   "file_extension": ".py",
   "mimetype": "text/x-python",
   "name": "python",
   "nbconvert_exporter": "python",
   "pygments_lexer": "ipython3",
   "version": "3.6.5"
  }
 },
 "nbformat": 4,
 "nbformat_minor": 2
}
